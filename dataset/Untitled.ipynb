{
 "cells": [
  {
   "cell_type": "code",
   "execution_count": 2,
   "metadata": {},
   "outputs": [],
   "source": [
    "response = requests.get(\"https://firebasestorage.googleapis.com/v0/b/playwithdb-523e6.appspot.com/o/image%2F-MYgAVjsQ279ZaqEqwKH%2F-MYgBLTB7f6Q2oxeNSA-%2F-MYgAVjv3O0D92hHF26s%2F-MYgBLT9IE-l2nHVYgA2.jpg?alt=media&token=c75a2c9c-2b4b-4fed-a564-bb0922afc364\")\n",
    "\n",
    "file = open(\"sample_image.png\", \"wb\")\n",
    "file.write(response.content)\n",
    "file.close()"
   ]
  }
 ],
 "metadata": {
  "kernelspec": {
   "display_name": "Python 3",
   "language": "python",
   "name": "python3"
  },
  "language_info": {
   "codemirror_mode": {
    "name": "ipython",
    "version": 3
   },
   "file_extension": ".py",
   "mimetype": "text/x-python",
   "name": "python",
   "nbconvert_exporter": "python",
   "pygments_lexer": "ipython3",
   "version": "3.8.5"
  }
 },
 "nbformat": 4,
 "nbformat_minor": 4
}
