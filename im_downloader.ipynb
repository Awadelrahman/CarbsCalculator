{
 "cells": [
  {
   "cell_type": "code",
   "execution_count": 62,
   "metadata": {},
   "outputs": [],
   "source": [
    "import requests\n",
    "from bs4 import BeautifulSoup\n",
    "import os"
   ]
  },
  {
   "cell_type": "code",
   "execution_count": 68,
   "metadata": {},
   "outputs": [
    {
     "name": "stdout",
     "output_type": "stream",
     "text": [
      "Writing:  Twist Sylinder\n",
      "Writing:  Anthon Berg Gulleske\n",
      "Writing:  Fazermint\n",
      "Writing:  Klistremerkebok Lek & Lær\n",
      "Writing:  Kaste Ring Spill\n",
      "Writing:  Gjenbrukbar klistremerkebok med motiver fra havet\n",
      "Writing:  Nummerkubb kastespill\n",
      "Writing:  Gjenbrukbar klistremerkebok med motiver fra tivoli\n",
      "Writing:  Klistremerkebok om gjennvinning\n",
      "Writing:  Flying Disc\n"
     ]
    }
   ],
   "source": [
    "def create_folder():\n",
    "    with open(\"ids.txt\", \"r\") as myfile:\n",
    "        scrape_id =  str(int(myfile.read())+1) \n",
    "    with open('ids.txt', \"w\") as myfile:\n",
    "        myfile.write(scrape_id)\n",
    "    myfile.close()\n",
    "    sub_folder='scraped/'+\"scraped_\"+scrape_id\n",
    "    \n",
    "    if not os.path.exists('scraped'):\n",
    "        os.makedirs('scraped')\n",
    "    if not os.path.exists(sub_folder):\n",
    "        os.makedirs(sub_folder)\n",
    "\n",
    "    return(sub_folder)\n",
    "\n",
    "    \n",
    "\n",
    "def scrape_url(url):\n",
    "    sub_folder=create_folder()\n",
    "    r = requests.get(url)\n",
    "    soup = BeautifulSoup(r.text, 'html.parser')\n",
    "    images = soup.find_all('img')\n",
    "    for image in images:\n",
    "        if image[\"src\"][:4]==\"http\":\n",
    "            name = image['alt']\n",
    "            link = image['src']\n",
    "            with open(sub_folder+\"/\"+name.replace(' ', '-').replace('/', '') + '.jpg', 'wb') as f:\n",
    "                im = requests.get(link)\n",
    "                f.write(im.content)\n",
    "                print('Writing: ', name)\n"
   ]
  },
  {
   "cell_type": "code",
   "execution_count": null,
   "metadata": {},
   "outputs": [],
   "source": [
    "url=\"https://oda.com/no/search/?page=2&q=gave\"\n",
    "scrape_url(url)"
   ]
  }
 ],
 "metadata": {
  "kernelspec": {
   "display_name": "Python 3",
   "language": "python",
   "name": "python3"
  },
  "language_info": {
   "codemirror_mode": {
    "name": "ipython",
    "version": 3
   },
   "file_extension": ".py",
   "mimetype": "text/x-python",
   "name": "python",
   "nbconvert_exporter": "python",
   "pygments_lexer": "ipython3",
   "version": "3.8.5"
  }
 },
 "nbformat": 4,
 "nbformat_minor": 4
}
